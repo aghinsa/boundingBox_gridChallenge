{
 "cells": [
  {
   "cell_type": "code",
   "execution_count": 1,
   "metadata": {},
   "outputs": [],
   "source": [
    "import tensorflow as tf\n",
    "import numpy as np\n",
    "import matplotlib.pyplot as plt\n",
    "import pandas as pd\n",
    "import cv2\n",
    "from tqdm import tqdm_notebook as tqdm"
   ]
  },
  {
   "cell_type": "code",
   "execution_count": 2,
   "metadata": {},
   "outputs": [],
   "source": [
    "def calculateRadius(points,thresh=0.7):\n",
    "    \n",
    "    alpha=points[2]-points[0]\n",
    "    beta=points[3]-points[1]\n",
    "    \n",
    "\n",
    "    disc=alpha*beta*(1-thresh)\n",
    "    disc/=alpha+beta\n",
    "    disc=np.sqrt(disc)\n",
    "    disc=np.floor(disc)\n",
    "    disc=disc.astype(np.int32)\n",
    "    \n",
    "    return disc"
   ]
  },
  {
   "cell_type": "code",
   "execution_count": 3,
   "metadata": {},
   "outputs": [],
   "source": [
    "data=pd.read_csv('training_set.csv')\n",
    "data=data.set_index('image_name')\n",
    "data=data[['x1','y1','x2','y2']]\n",
    "data['x1']=data['x1']*480/640\n",
    "data['x2']=data['x2']*480/640\n"
   ]
  },
  {
   "cell_type": "code",
   "execution_count": 4,
   "metadata": {},
   "outputs": [],
   "source": [
    "def create_mask(img_size,points,mode='top_left',varience=1.5,normalized=True):\n",
    "    \"\"\"\n",
    "    return normalized mask uint8 range 255\n",
    "    shape [img_size[0],img_size[1]]\n",
    "    \"\"\"\n",
    "    mask=np.zeros((img_size[0],img_size[1]))\n",
    "    radius=calculateRadius(points)\n",
    "    sigma=varience*radius\n",
    "    sigma*=sigma\n",
    "    sigma=2*sigma\n",
    "    if mode=='top_left':\n",
    "        try:\n",
    "            cv2.circle(mask,(int(points[0]),int(points[1])),radius, (1), -1)\n",
    "        except:\n",
    "            mask[int(points[0]),int(points[1])]=1\n",
    "            if not normalized:\n",
    "                mask=mask*255\n",
    "            print(\"An error in cv.circle\")\n",
    "        s=np.array(np.meshgrid(np.arange(img_size[0]),np.arange(img_size[0]))).transpose([1,2,0]).reshape(-1,2).astype(np.float32)\n",
    "        origin=np.floor(np.array([points[0],points[1]]))\n",
    "    \n",
    "    elif mode=='bottom_right':\n",
    "        try:\n",
    "            cv2.circle(mask,(int(points[2]),int(points[3])),radius, (1), -1)\n",
    "        except:\n",
    "            mask[int(points[2]),int(points[3])]=1\n",
    "            if not normalized:\n",
    "                mask=mask*255\n",
    "            print(\"An error in cv.circle\")\n",
    "        s=np.array(np.meshgrid(np.arange(img_size[0]),np.arange(img_size[0]))).transpose([1,2,0]).reshape(-1,2).astype(np.float32)\n",
    "        origin=np.floor(np.array([points[2],points[3]]))\n",
    "    else:\n",
    "        print(\"Mode error\")\n",
    "        return\n",
    "        \n",
    "    s-=origin\n",
    "    s=np.square(s)\n",
    "    s=np.sum(s,axis=1)\n",
    "    s/=sigma\n",
    "    s=np.exp(-s)\n",
    "    s=s.reshape(img_size)\n",
    "#     s=s/np.max(s)\n",
    "    if not normalized:\n",
    "        s=s*255\n",
    "    \n",
    "    return s"
   ]
  },
  {
   "cell_type": "code",
   "execution_count": 10,
   "metadata": {},
   "outputs": [
    {
     "data": {
      "image/png": "[encoded data removed]",
      "text/plain": [
       "<Figure size 432x288 with 1 Axes>"
      ]
     },
     "metadata": {
      "needs_background": "light"
     },
     "output_type": "display_data"
    }
   ],
   "source": [
    "points=np.array(data.loc['JPEG_20160607_153530_1000669241198.png']).astype(np.float32)\n",
    "varience=5\n",
    "mask_top=create_mask((480,480),points,mode='bottom_right',varience=varience)\n",
    "mask_bottom=create_mask((480,480),points,mode='top_left',varience=varience)\n",
    "mask=mask_top+mask_bottom\n",
    "plt.imshow(mask)\n",
    "# plt.imshow(img)\n",
    "# plt.plot(points[0],points[1],'bo')\n",
    "# plt.plot(points[2],points[3],'bo')\n",
    "plt.show()"
   ]
  },
  {
   "cell_type": "markdown",
   "metadata": {},
   "source": [
    "## loss"
   ]
  },
  {
   "cell_type": "code",
   "execution_count": null,
   "metadata": {},
   "outputs": [],
   "source": [
    "def focal_loss(preds,truth):\n",
    "    \"\"\"\n",
    "    [?,h,w,1]\n",
    "    \"\"\"\n",
    "    preds=tf.squeeze(preds,axis=-1)\n",
    "    truth=tf.squeeze(truth,axis=-1)\n",
    "    \n",
    "    exact_mask=tf.equal(truth,tf.ones_like(truth))\n",
    "    others_mask=tf.logical_not(exact_mask)\n",
    "    \n",
    "    positive_preds=tf.boolean_mask(preds,mask=exact_mask)\n",
    "    negative_preds=tf.boolean_mask(preds,mask=others_mask)\n",
    "    return negative_preds\n",
    "    "
   ]
  },
  {
   "cell_type": "code",
   "execution_count": null,
   "metadata": {},
   "outputs": [],
   "source": []
  },
  {
   "cell_type": "code",
   "execution_count": null,
   "metadata": {},
   "outputs": [],
   "source": []
  },
  {
   "cell_type": "markdown",
   "metadata": {},
   "source": [
    "## Predictions from heat map"
   ]
  },
  {
   "cell_type": "code",
   "execution_count": 146,
   "metadata": {},
   "outputs": [
    {
     "data": {
      "text/plain": [
       "(2, 480, 480)"
      ]
     },
     "execution_count": 146,
     "metadata": {},
     "output_type": "execute_result"
    }
   ],
   "source": [
    "points=np.array(data.loc['JPEG_20160607_153530_1000669241198.png']).astype(np.float32)\n",
    "mask_top=create_mask((480,480),points,mode='bottom_right')\n",
    "mask_bottom=create_mask((480,480),points,mode='top_left')\n",
    "mask_top=np.expand_dims(mask_top,axis=0)\n",
    "mask_bottom=np.expand_dims(mask_bottom,axis=0)\n",
    "mask_bottom.shape\n",
    "heatmaps=np.concatenate([mask_top,mask_bottom])\n",
    "heatmaps.shape"
   ]
  },
  {
   "cell_type": "code",
   "execution_count": 15,
   "metadata": {},
   "outputs": [],
   "source": [
    "sess=tf.Session()"
   ]
  },
  {
   "cell_type": "code",
   "execution_count": 65,
   "metadata": {},
   "outputs": [
    {
     "name": "stdout",
     "output_type": "stream",
     "text": [
      "32260\n",
      "67\n",
      "100\n"
     ]
    }
   ],
   "source": [
    "idx=np.argmax(mask)\n",
    "ridx=int(idx/480)\n",
    "cidx=idx%480\n",
    "mask[ridx,cidx]\n",
    "print(idx)\n",
    "print(ridx)\n",
    "print(cidx)"
   ]
  },
  {
   "cell_type": "code",
   "execution_count": 152,
   "metadata": {},
   "outputs": [],
   "source": [
    "def get_predictions_from_heatmap(heatmap,img_size):\n",
    "    \"\"\"\n",
    "    heatmap=[?,h,w]\n",
    "    return preds =[?,2]\n",
    "    \"\"\"\n",
    "    mask=tf.contrib.layers.flatten(heatmap)\n",
    "    idx=tf.argmax(mask,axis=1)\n",
    "    ridx=tf.math.floor(idx/img_size[1])\n",
    "    cidx=tf.mod(idx,img_size[0])\n",
    "    ridx=tf.cast(ridx,tf.int32)\n",
    "    cidx=tf.cast(cidx,tf.int32)\n",
    "\n",
    "    preds=tf.stack([ridx,cidx],axis=1)\n",
    "    return preds"
   ]
  },
  {
   "cell_type": "code",
   "execution_count": 156,
   "metadata": {},
   "outputs": [
    {
     "name": "stdout",
     "output_type": "stream",
     "text": [
      "Tensor(\"ArgMax_64:0\", shape=(2,), dtype=int64)\n",
      "Tensor(\"Cast_44:0\", shape=(2,), dtype=int32)\n"
     ]
    }
   ],
   "source": [
    "mask1=tf.convert_to_tensor(mask)\n",
    "mask1=tf.reshape(mask1,[1,480,480])\n",
    "preds=get_predictions_from_heatmap(heatmaps,(480,480))\n",
    "preds=sess.run(preds)"
   ]
  },
  {
   "cell_type": "code",
   "execution_count": 166,
   "metadata": {},
   "outputs": [
    {
     "data": {
      "text/plain": [
       "1.0"
      ]
     },
     "execution_count": 166,
     "metadata": {},
     "output_type": "execute_result"
    }
   ],
   "source": [
    "heatmaps[0][429,375]"
   ]
  },
  {
   "cell_type": "code",
   "execution_count": 167,
   "metadata": {},
   "outputs": [
    {
     "data": {
      "text/plain": [
       "array([429, 375], dtype=int32)"
      ]
     },
     "execution_count": 167,
     "metadata": {},
     "output_type": "execute_result"
    }
   ],
   "source": [
    "preds[0,:]"
   ]
  },
  {
   "cell_type": "markdown",
   "metadata": {},
   "source": [
    "#### preds works"
   ]
  },
  {
   "cell_type": "code",
   "execution_count": null,
   "metadata": {},
   "outputs": [],
   "source": []
  },
  {
   "cell_type": "code",
   "execution_count": null,
   "metadata": {},
   "outputs": [],
   "source": []
  },
  {
   "cell_type": "code",
   "execution_count": 53,
   "metadata": {},
   "outputs": [
    {
     "name": "stderr",
     "output_type": "stream",
     "text": [
      "Clipping input data to the valid range for imshow with RGB data ([0..1] for floats or [0..255] for integers).\n"
     ]
    },
    {
     "data": {
      "text/plain": [
       "<matplotlib.image.AxesImage at 0x7f38581271d0>"
      ]
     },
     "execution_count": 53,
     "metadata": {},
     "output_type": "execute_result"
    },
    {
     "data": {
      "image/png": "[encoded data removed]",
      "text/plain": [
       "<Figure size 432x288 with 1 Axes>"
      ]
     },
     "metadata": {
      "needs_background": "light"
     },
     "output_type": "display_data"
    }
   ],
   "source": [
    "img=cv2.imread('JPEG_20160607_153530_1000669241198.png')\n",
    "img=cv2.resize(img,(480,480))\n",
    "img=img/255\n",
    "img=img+np.expand_dims(mask,axis=-1)\n",
    "plt.imshow(img)"
   ]
  },
  {
   "cell_type": "code",
   "execution_count": 60,
   "metadata": {},
   "outputs": [
    {
     "data": {
      "text/plain": [
       "True"
      ]
     },
     "execution_count": 60,
     "metadata": {},
     "output_type": "execute_result"
    }
   ],
   "source": [
    "cv2.imwrite('1.png',mask*255)"
   ]
  },
  {
   "cell_type": "markdown",
   "metadata": {},
   "source": [
    "Label saving"
   ]
  },
  {
   "cell_type": "code",
   "execution_count": 55,
   "metadata": {},
   "outputs": [],
   "source": [
    "import pickle\n",
    "import os"
   ]
  },
  {
   "cell_type": "code",
   "execution_count": 95,
   "metadata": {},
   "outputs": [
    {
     "name": "stdout",
     "output_type": "stream",
     "text": [
      "24000\n"
     ]
    }
   ],
   "source": [
    "filenames=[]\n",
    "f=open('train_list.txt','w')\n",
    "for x,_ in data.iterrows():\n",
    "    filenames.append(x)\n",
    "    f.write(x)\n",
    "    f.write('\\n')\n",
    "f.close()\n",
    "print(len(filenames))"
   ]
  },
  {
   "cell_type": "code",
   "execution_count": 97,
   "metadata": {},
   "outputs": [
    {
     "name": "stdout",
     "output_type": "stream",
     "text": [
      "completed\n",
      "saved\n"
     ]
    }
   ],
   "source": [
    "label_dict={}\n",
    "for file in filenames:\n",
    "    points=np.array(data.loc[file])\n",
    "    points=np.floor(points)\n",
    "    label_dict[file]=points\n",
    "print(\"completed\")\n",
    "\n",
    "with open('labels_xy.pickle','wb') as handle:\n",
    "    pickle.dump(label_dict,handle,protocol=pickle.HIGHEST_PROTOCOL)\n",
    "print(\"saved\")"
   ]
  },
  {
   "cell_type": "code",
   "execution_count": 98,
   "metadata": {},
   "outputs": [],
   "source": [
    "left_path='./labels/left'\n",
    "right_path='./labels/right'\n",
    "with open('labels_xy.pickle', 'rb') as handle:\n",
    "    labels_xy = pickle.load(handle)"
   ]
  },
  {
   "cell_type": "code",
   "execution_count": 100,
   "metadata": {},
   "outputs": [
    {
     "data": {
      "application/vnd.jupyter.widget-view+json": {
       "model_id": "9f053e2b4a6c4c81b24785307bfc41b8",
       "version_major": 2,
       "version_minor": 0
      },
      "text/plain": [
       "HBox(children=(IntProgress(value=0, max=24000), HTML(value='')))"
      ]
     },
     "metadata": {},
     "output_type": "display_data"
    },
    {
     "name": "stderr",
     "output_type": "stream",
     "text": [
      "/home/aghinsa/anaconda3/lib/python3.6/site-packages/ipykernel_launcher.py:8: RuntimeWarning: invalid value encountered in double_scalars\n",
      "  \n"
     ]
    },
    {
     "name": "stdout",
     "output_type": "stream",
     "text": [
      "An error in cv.circle\n",
      "An error in cv.circle\n",
      "Error in 1477035945016DSC_7534.png \n",
      "Completed\n"
     ]
    }
   ],
   "source": [
    "# img_size=(480,480)\n",
    "# for file in tqdm(filenames):\n",
    "#     try:\n",
    "#         lsv=os.path.join(left_path,file)\n",
    "#         rsv=os.path.join(right_path,file)\n",
    "#         points=labels_xy[file]\n",
    "#         varience=1.5\n",
    "#         left_mask=create_mask(img_size,points,mode='top_left',varience=varience,normalized=False)\n",
    "#         right_mask=create_mask(img_size,points,mode='bottom_right',varience=varience,normalized=False)\n",
    "#         cv2.imwrite(lsv,left_mask)\n",
    "#         cv2.imwrite(rsv,right_mask)\n",
    "#     except:\n",
    "#         print(\"Error in {} \".format(file))\n",
    "# print(\"Completed\")"
   ]
  },
  {
   "cell_type": "code",
   "execution_count": 101,
   "metadata": {},
   "outputs": [
    {
     "data": {
      "text/plain": [
       "array([ 251., 3955.,  251., 3955.])"
      ]
     },
     "execution_count": 101,
     "metadata": {},
     "output_type": "execute_result"
    }
   ],
   "source": [
    "labels_xy['1477035945016DSC_7534.png']"
   ]
  },
  {
   "cell_type": "code",
   "execution_count": 102,
   "metadata": {},
   "outputs": [
    {
     "data": {
      "text/plain": [
       "x1     251.25\n",
       "y1    3955.00\n",
       "x2     251.25\n",
       "y2    3955.00\n",
       "Name: 1477035945016DSC_7534.png, dtype: float64"
      ]
     },
     "execution_count": 102,
     "metadata": {},
     "output_type": "execute_result"
    }
   ],
   "source": [
    "data.loc['1477035945016DSC_7534.png']"
   ]
  },
  {
   "cell_type": "markdown",
   "metadata": {},
   "source": [
    "Remove 1477035945016DSC_7534.png from train_list"
   ]
  },
  {
   "cell_type": "code",
   "execution_count": null,
   "metadata": {},
   "outputs": [],
   "source": []
  }
 ],
 "metadata": {
  "kernelspec": {
   "display_name": "Python 3",
   "language": "python",
   "name": "python3"
  },
  "language_info": {
   "codemirror_mode": {
    "name": "ipython",
    "version": 3
   },
   "file_extension": ".py",
   "mimetype": "text/x-python",
   "name": "python",
   "nbconvert_exporter": "python",
   "pygments_lexer": "ipython3",
   "version": "3.6.8"
  }
 },
 "nbformat": 4,
 "nbformat_minor": 2
}
