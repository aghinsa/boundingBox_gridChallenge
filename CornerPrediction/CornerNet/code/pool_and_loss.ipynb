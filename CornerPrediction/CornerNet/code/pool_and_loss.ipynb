{
 "cells": [
  {
   "cell_type": "code",
   "execution_count": 4,
   "metadata": {},
   "outputs": [],
   "source": [
    "import tensorflow as tf\n",
    "import numpy as np\n",
    "import matplotlib.pyplot as plt"
   ]
  },
  {
   "cell_type": "code",
   "execution_count": 7,
   "metadata": {},
   "outputs": [],
   "source": [
    "def corner_pool(inputs,kernel_size=[3,3],mode='topLeft'):\n",
    "    if mode=='bottomRight':\n",
    "        pad_bottom=np.array([[0,0],[0,kernel_size[0]-1],[0,0],[0,0]])\n",
    "        pad_right=np.array([[0,0],[0,0],[0,kernel_size[1]-1],[0,0]])\n",
    "        temp_bottom=tf.pad(inputs,paddings=pad_bottom)\n",
    "        temp_right=tf.pad(inputs,paddings=pad_right)\n",
    "        temp_bottom=tf.layers.max_pooling2d(temp_bottom, (kernel_size[0],1), (1,1), padding='valid')\n",
    "        temp_right=tf.layers.max_pooling2d(temp_right, (1,kernel_size[1]), (1,1), padding='valid')\n",
    "        outputs=tf.add(temp_bottom,temp_right)\n",
    "    elif mode=='topLeft':\n",
    "        pad_top=np.array([[0,0],[kernel_size[0]-1,0],[0,0],[0,0]])\n",
    "        pad_left=np.array([[0,0],[0,0],[kernel_size[1]-1,0],[0,0]])\n",
    "        temp_top=tf.pad(inputs,paddings=pad_top)\n",
    "        temp_left=tf.pad(inputs,paddings=pad_left)\n",
    "        temp_top=tf.layers.max_pooling2d(temp_top, (kernel_size[0],1), (1,1), padding='valid')\n",
    "        temp_left=tf.layers.max_pooling2d(temp_left, (1,kernel_size[1]), (1,1), padding='valid')\n",
    "        outputs=tf.add(temp_top,temp_left)\n",
    "    return outputs"
   ]
  },
  {
   "cell_type": "code",
   "execution_count": 2,
   "metadata": {},
   "outputs": [],
   "source": [
    "sess=tf.Session()"
   ]
  },
  {
   "cell_type": "code",
   "execution_count": 3,
   "metadata": {},
   "outputs": [],
   "source": [
    "a=np.random.rand(4,2).astype(np.float32)\n",
    "b=np.random.rand(4,2).astype(np.float32)\n",
    "c=tf.concat([a,b],axis=-1)\n",
    "\n"
   ]
  },
  {
   "cell_type": "code",
   "execution_count": 4,
   "metadata": {},
   "outputs": [
    {
     "data": {
      "text/plain": [
       "(4, 4)"
      ]
     },
     "execution_count": 4,
     "metadata": {},
     "output_type": "execute_result"
    }
   ],
   "source": [
    "sess.run(c).shape"
   ]
  },
  {
   "cell_type": "code",
   "execution_count": 1,
   "metadata": {},
   "outputs": [],
   "source": [
    "import cv2\n",
    "import numpy as np"
   ]
  },
  {
   "cell_type": "code",
   "execution_count": 8,
   "metadata": {},
   "outputs": [],
   "source": [
    "img=cv2.imread('../labels/top/1458170699092DSC_0054.png',0)"
   ]
  },
  {
   "cell_type": "code",
   "execution_count": 11,
   "metadata": {},
   "outputs": [
    {
     "data": {
      "text/plain": [
       "255"
      ]
     },
     "execution_count": 11,
     "metadata": {},
     "output_type": "execute_result"
    }
   ],
   "source": [
    "np.max(img)"
   ]
  },
  {
   "cell_type": "code",
   "execution_count": 9,
   "metadata": {},
   "outputs": [
    {
     "data": {
      "text/plain": [
       "<matplotlib.image.AxesImage at 0x7f10ccd05a58>"
      ]
     },
     "execution_count": 9,
     "metadata": {},
     "output_type": "execute_result"
    },
    {
     "data": {
      "image/png": "[encoded data removed]",
      "text/plain": [
       "<Figure size 432x288 with 1 Axes>"
      ]
     },
     "metadata": {
      "needs_background": "light"
     },
     "output_type": "display_data"
    }
   ],
   "source": [
    "plt.imshow(img)"
   ]
  },
  {
   "cell_type": "code",
   "execution_count": null,
   "metadata": {},
   "outputs": [],
   "source": []
  }
 ],
 "metadata": {
  "kernelspec": {
   "display_name": "Python 3",
   "language": "python",
   "name": "python3"
  },
  "language_info": {
   "codemirror_mode": {
    "name": "ipython",
    "version": 3
   },
   "file_extension": ".py",
   "mimetype": "text/x-python",
   "name": "python",
   "nbconvert_exporter": "python",
   "pygments_lexer": "ipython3",
   "version": "3.6.8"
  }
 },
 "nbformat": 4,
 "nbformat_minor": 2
}
