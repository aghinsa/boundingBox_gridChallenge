{
 "cells": [
  {
   "cell_type": "code",
   "execution_count": 1,
   "metadata": {},
   "outputs": [],
   "source": [
    "%matplotlib inline \n",
    "import numpy as np\n",
    "import pandas as pd\n",
    "import matplotlib.pyplot as plt"
   ]
  },
  {
   "cell_type": "code",
   "execution_count": 3,
   "metadata": {},
   "outputs": [
    {
     "data": {
      "text/html": [
       "<div>\n",
       "<style scoped>\n",
       "    .dataframe tbody tr th:only-of-type {\n",
       "        vertical-align: middle;\n",
       "    }\n",
       "\n",
       "    .dataframe tbody tr th {\n",
       "        vertical-align: top;\n",
       "    }\n",
       "\n",
       "    .dataframe thead th {\n",
       "        text-align: right;\n",
       "    }\n",
       "</style>\n",
       "<table border=\"1\" class=\"dataframe\">\n",
       "  <thead>\n",
       "    <tr style=\"text-align: right;\">\n",
       "      <th></th>\n",
       "      <th>x1</th>\n",
       "      <th>x2</th>\n",
       "      <th>y1</th>\n",
       "      <th>y2</th>\n",
       "    </tr>\n",
       "    <tr>\n",
       "      <th>image_name</th>\n",
       "      <th></th>\n",
       "      <th></th>\n",
       "      <th></th>\n",
       "      <th></th>\n",
       "    </tr>\n",
       "  </thead>\n",
       "  <tbody>\n",
       "    <tr>\n",
       "      <th>1467891670691DSC_0582.png</th>\n",
       "      <td>NaN</td>\n",
       "      <td>NaN</td>\n",
       "      <td>NaN</td>\n",
       "      <td>NaN</td>\n",
       "    </tr>\n",
       "    <tr>\n",
       "      <th>1475151786691DSC00560.png</th>\n",
       "      <td>NaN</td>\n",
       "      <td>NaN</td>\n",
       "      <td>NaN</td>\n",
       "      <td>NaN</td>\n",
       "    </tr>\n",
       "    <tr>\n",
       "      <th>1480334114405_R2A3620.png</th>\n",
       "      <td>NaN</td>\n",
       "      <td>NaN</td>\n",
       "      <td>NaN</td>\n",
       "      <td>NaN</td>\n",
       "    </tr>\n",
       "    <tr>\n",
       "      <th>JPEG_20160712_161047_1000606860114.png</th>\n",
       "      <td>NaN</td>\n",
       "      <td>NaN</td>\n",
       "      <td>NaN</td>\n",
       "      <td>NaN</td>\n",
       "    </tr>\n",
       "    <tr>\n",
       "      <th>JPEG_20160403_174522_-1137349501.png</th>\n",
       "      <td>NaN</td>\n",
       "      <td>NaN</td>\n",
       "      <td>NaN</td>\n",
       "      <td>NaN</td>\n",
       "    </tr>\n",
       "  </tbody>\n",
       "</table>\n",
       "</div>"
      ],
      "text/plain": [
       "                                        x1  x2  y1  y2\n",
       "image_name                                            \n",
       "1467891670691DSC_0582.png              NaN NaN NaN NaN\n",
       "1475151786691DSC00560.png              NaN NaN NaN NaN\n",
       "1480334114405_R2A3620.png              NaN NaN NaN NaN\n",
       "JPEG_20160712_161047_1000606860114.png NaN NaN NaN NaN\n",
       "JPEG_20160403_174522_-1137349501.png   NaN NaN NaN NaN"
      ]
     },
     "execution_count": 3,
     "metadata": {},
     "output_type": "execute_result"
    }
   ],
   "source": [
    "df=pd.read_csv('test.csv')\n",
    "df=df.set_index('image_name')\n",
    "df.head()"
   ]
  },
  {
   "cell_type": "code",
   "execution_count": 4,
   "metadata": {},
   "outputs": [
    {
     "data": {
      "text/plain": [
       "(24045, 4)"
      ]
     },
     "execution_count": 4,
     "metadata": {},
     "output_type": "execute_result"
    }
   ],
   "source": [
    "df.shape"
   ]
  },
  {
   "cell_type": "code",
   "execution_count": 4,
   "metadata": {},
   "outputs": [],
   "source": [
    "# f=open('test_list.txt','w')\n",
    "# c=0\n",
    "# for row,val in df.iterrows():\n",
    "#     f.write(row)\n",
    "#     f.write('\\n')\n",
    "#     c+=1\n",
    "# f.close()\n",
    "# print(c)"
   ]
  },
  {
   "cell_type": "code",
   "execution_count": 6,
   "metadata": {},
   "outputs": [],
   "source": [
    "parray=np.load('predicted_points_submitions_ready.npy')"
   ]
  },
  {
   "cell_type": "code",
   "execution_count": 7,
   "metadata": {},
   "outputs": [
    {
     "data": {
      "text/plain": [
       "(24045, 4)"
      ]
     },
     "execution_count": 7,
     "metadata": {},
     "output_type": "execute_result"
    }
   ],
   "source": [
    "df.shape"
   ]
  },
  {
   "cell_type": "code",
   "execution_count": 8,
   "metadata": {},
   "outputs": [],
   "source": [
    "parray=parray[:,0:4]"
   ]
  },
  {
   "cell_type": "code",
   "execution_count": 9,
   "metadata": {},
   "outputs": [
    {
     "data": {
      "text/plain": [
       "(24045, 4)"
      ]
     },
     "execution_count": 9,
     "metadata": {},
     "output_type": "execute_result"
    }
   ],
   "source": [
    "parray.shape"
   ]
  },
  {
   "cell_type": "code",
   "execution_count": 12,
   "metadata": {},
   "outputs": [],
   "source": [
    "df['x1']=(parray[:,0])*640/256\n",
    "df['x2']=(parray[:,2])*640/256\n",
    "df['y1']=(parray[:,1])*480/256\n",
    "df['y2']=(parray[:,3])*480/256"
   ]
  },
  {
   "cell_type": "code",
   "execution_count": 13,
   "metadata": {},
   "outputs": [
    {
     "data": {
      "text/html": [
       "<div>\n",
       "<style scoped>\n",
       "    .dataframe tbody tr th:only-of-type {\n",
       "        vertical-align: middle;\n",
       "    }\n",
       "\n",
       "    .dataframe tbody tr th {\n",
       "        vertical-align: top;\n",
       "    }\n",
       "\n",
       "    .dataframe thead th {\n",
       "        text-align: right;\n",
       "    }\n",
       "</style>\n",
       "<table border=\"1\" class=\"dataframe\">\n",
       "  <thead>\n",
       "    <tr style=\"text-align: right;\">\n",
       "      <th></th>\n",
       "      <th>x1</th>\n",
       "      <th>x2</th>\n",
       "      <th>y1</th>\n",
       "      <th>y2</th>\n",
       "    </tr>\n",
       "    <tr>\n",
       "      <th>image_name</th>\n",
       "      <th></th>\n",
       "      <th></th>\n",
       "      <th></th>\n",
       "      <th></th>\n",
       "    </tr>\n",
       "  </thead>\n",
       "  <tbody>\n",
       "    <tr>\n",
       "      <th>1467891670691DSC_0582.png</th>\n",
       "      <td>82.938652</td>\n",
       "      <td>553.840576</td>\n",
       "      <td>88.364937</td>\n",
       "      <td>424.049225</td>\n",
       "    </tr>\n",
       "    <tr>\n",
       "      <th>1475151786691DSC00560.png</th>\n",
       "      <td>211.690491</td>\n",
       "      <td>410.446777</td>\n",
       "      <td>122.110962</td>\n",
       "      <td>420.667969</td>\n",
       "    </tr>\n",
       "    <tr>\n",
       "      <th>1480334114405_R2A3620.png</th>\n",
       "      <td>194.494019</td>\n",
       "      <td>430.341888</td>\n",
       "      <td>100.401741</td>\n",
       "      <td>365.004364</td>\n",
       "    </tr>\n",
       "    <tr>\n",
       "      <th>JPEG_20160712_161047_1000606860114.png</th>\n",
       "      <td>182.986710</td>\n",
       "      <td>509.028992</td>\n",
       "      <td>54.877708</td>\n",
       "      <td>416.479980</td>\n",
       "    </tr>\n",
       "    <tr>\n",
       "      <th>JPEG_20160403_174522_-1137349501.png</th>\n",
       "      <td>99.545120</td>\n",
       "      <td>539.835022</td>\n",
       "      <td>46.223419</td>\n",
       "      <td>396.275757</td>\n",
       "    </tr>\n",
       "  </tbody>\n",
       "</table>\n",
       "</div>"
      ],
      "text/plain": [
       "                                                x1          x2          y1  \\\n",
       "image_name                                                                   \n",
       "1467891670691DSC_0582.png                82.938652  553.840576   88.364937   \n",
       "1475151786691DSC00560.png               211.690491  410.446777  122.110962   \n",
       "1480334114405_R2A3620.png               194.494019  430.341888  100.401741   \n",
       "JPEG_20160712_161047_1000606860114.png  182.986710  509.028992   54.877708   \n",
       "JPEG_20160403_174522_-1137349501.png     99.545120  539.835022   46.223419   \n",
       "\n",
       "                                                y2  \n",
       "image_name                                          \n",
       "1467891670691DSC_0582.png               424.049225  \n",
       "1475151786691DSC00560.png               420.667969  \n",
       "1480334114405_R2A3620.png               365.004364  \n",
       "JPEG_20160712_161047_1000606860114.png  416.479980  \n",
       "JPEG_20160403_174522_-1137349501.png    396.275757  "
      ]
     },
     "execution_count": 13,
     "metadata": {},
     "output_type": "execute_result"
    }
   ],
   "source": [
    "df.head()"
   ]
  },
  {
   "cell_type": "code",
   "execution_count": 14,
   "metadata": {},
   "outputs": [],
   "source": [
    "df.to_csv('predictions.csv')"
   ]
  },
  {
   "cell_type": "code",
   "execution_count": null,
   "metadata": {},
   "outputs": [],
   "source": []
  }
 ],
 "metadata": {
  "kernelspec": {
   "display_name": "Python 3",
   "language": "python",
   "name": "python3"
  },
  "language_info": {
   "codemirror_mode": {
    "name": "ipython",
    "version": 3
   },
   "file_extension": ".py",
   "mimetype": "text/x-python",
   "name": "python",
   "nbconvert_exporter": "python",
   "pygments_lexer": "ipython3",
   "version": "3.5.0"
  }
 },
 "nbformat": 4,
 "nbformat_minor": 2
}
