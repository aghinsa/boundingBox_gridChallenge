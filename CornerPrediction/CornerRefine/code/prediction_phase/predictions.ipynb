{
 "cells": [
  {
   "cell_type": "code",
   "execution_count": 1,
   "metadata": {},
   "outputs": [],
   "source": [
    "%matplotlib inline \n",
    "import numpy as np\n",
    "import pandas as pd\n",
    "import matplotlib.pyplot as plt"
   ]
  },
  {
   "cell_type": "code",
   "execution_count": 2,
   "metadata": {},
   "outputs": [
    {
     "data": {
      "text/html": [
       "<div>\n",
       "<style scoped>\n",
       "    .dataframe tbody tr th:only-of-type {\n",
       "        vertical-align: middle;\n",
       "    }\n",
       "\n",
       "    .dataframe tbody tr th {\n",
       "        vertical-align: top;\n",
       "    }\n",
       "\n",
       "    .dataframe thead th {\n",
       "        text-align: right;\n",
       "    }\n",
       "</style>\n",
       "<table border=\"1\" class=\"dataframe\">\n",
       "  <thead>\n",
       "    <tr style=\"text-align: right;\">\n",
       "      <th></th>\n",
       "      <th>x1</th>\n",
       "      <th>x2</th>\n",
       "      <th>y1</th>\n",
       "      <th>y2</th>\n",
       "    </tr>\n",
       "    <tr>\n",
       "      <th>image_name</th>\n",
       "      <th></th>\n",
       "      <th></th>\n",
       "      <th></th>\n",
       "      <th></th>\n",
       "    </tr>\n",
       "  </thead>\n",
       "  <tbody>\n",
       "    <tr>\n",
       "      <th>1467891670691DSC_0582.png</th>\n",
       "      <td>NaN</td>\n",
       "      <td>NaN</td>\n",
       "      <td>NaN</td>\n",
       "      <td>NaN</td>\n",
       "    </tr>\n",
       "    <tr>\n",
       "      <th>1475151786691DSC00560.png</th>\n",
       "      <td>NaN</td>\n",
       "      <td>NaN</td>\n",
       "      <td>NaN</td>\n",
       "      <td>NaN</td>\n",
       "    </tr>\n",
       "    <tr>\n",
       "      <th>1480334114405_R2A3620.png</th>\n",
       "      <td>NaN</td>\n",
       "      <td>NaN</td>\n",
       "      <td>NaN</td>\n",
       "      <td>NaN</td>\n",
       "    </tr>\n",
       "    <tr>\n",
       "      <th>JPEG_20160712_161047_1000606860114.png</th>\n",
       "      <td>NaN</td>\n",
       "      <td>NaN</td>\n",
       "      <td>NaN</td>\n",
       "      <td>NaN</td>\n",
       "    </tr>\n",
       "    <tr>\n",
       "      <th>JPEG_20160403_174522_-1137349501.png</th>\n",
       "      <td>NaN</td>\n",
       "      <td>NaN</td>\n",
       "      <td>NaN</td>\n",
       "      <td>NaN</td>\n",
       "    </tr>\n",
       "  </tbody>\n",
       "</table>\n",
       "</div>"
      ],
      "text/plain": [
       "                                        x1  x2  y1  y2\n",
       "image_name                                            \n",
       "1467891670691DSC_0582.png              NaN NaN NaN NaN\n",
       "1475151786691DSC00560.png              NaN NaN NaN NaN\n",
       "1480334114405_R2A3620.png              NaN NaN NaN NaN\n",
       "JPEG_20160712_161047_1000606860114.png NaN NaN NaN NaN\n",
       "JPEG_20160403_174522_-1137349501.png   NaN NaN NaN NaN"
      ]
     },
     "execution_count": 2,
     "metadata": {},
     "output_type": "execute_result"
    }
   ],
   "source": [
    "df=pd.read_csv('test.csv')\n",
    "df=df.set_index('image_name')\n",
    "df.head()"
   ]
  },
  {
   "cell_type": "code",
   "execution_count": 3,
   "metadata": {},
   "outputs": [
    {
     "data": {
      "text/plain": [
       "(24045, 4)"
      ]
     },
     "execution_count": 3,
     "metadata": {},
     "output_type": "execute_result"
    }
   ],
   "source": [
    "df.shape"
   ]
  },
  {
   "cell_type": "code",
   "execution_count": 4,
   "metadata": {},
   "outputs": [],
   "source": [
    "# f=open('test_list.txt','w')\n",
    "# c=0\n",
    "# for row,val in df.iterrows():\n",
    "#     f.write(row)\n",
    "#     f.write('\\n')\n",
    "#     c+=1\n",
    "# f.close()\n",
    "# print(c)"
   ]
  },
  {
   "cell_type": "code",
   "execution_count": 5,
   "metadata": {},
   "outputs": [],
   "source": [
    "parray=np.load('predicted_points_to_refine_test.npy')"
   ]
  },
  {
   "cell_type": "code",
   "execution_count": 6,
   "metadata": {},
   "outputs": [
    {
     "data": {
      "text/plain": [
       "(24045, 4)"
      ]
     },
     "execution_count": 6,
     "metadata": {},
     "output_type": "execute_result"
    }
   ],
   "source": [
    "df.shape"
   ]
  },
  {
   "cell_type": "code",
   "execution_count": 7,
   "metadata": {},
   "outputs": [],
   "source": [
    "parray=parray[:,0:4]"
   ]
  },
  {
   "cell_type": "code",
   "execution_count": 8,
   "metadata": {},
   "outputs": [
    {
     "data": {
      "text/plain": [
       "(24045, 4)"
      ]
     },
     "execution_count": 8,
     "metadata": {},
     "output_type": "execute_result"
    }
   ],
   "source": [
    "parray.shape"
   ]
  },
  {
   "cell_type": "code",
   "execution_count": 9,
   "metadata": {},
   "outputs": [],
   "source": [
    "df['x1']=(parray[:,0]*640/256)\n",
    "df['x2']=(parray[:,2]*640/256)\n",
    "df['y1']=(parray[:,1]*480/256)\n",
    "df['y2']=(parray[:,3]*480/256)"
   ]
  },
  {
   "cell_type": "code",
   "execution_count": 10,
   "metadata": {},
   "outputs": [
    {
     "data": {
      "text/html": [
       "<div>\n",
       "<style scoped>\n",
       "    .dataframe tbody tr th:only-of-type {\n",
       "        vertical-align: middle;\n",
       "    }\n",
       "\n",
       "    .dataframe tbody tr th {\n",
       "        vertical-align: top;\n",
       "    }\n",
       "\n",
       "    .dataframe thead th {\n",
       "        text-align: right;\n",
       "    }\n",
       "</style>\n",
       "<table border=\"1\" class=\"dataframe\">\n",
       "  <thead>\n",
       "    <tr style=\"text-align: right;\">\n",
       "      <th></th>\n",
       "      <th>x1</th>\n",
       "      <th>x2</th>\n",
       "      <th>y1</th>\n",
       "      <th>y2</th>\n",
       "    </tr>\n",
       "    <tr>\n",
       "      <th>image_name</th>\n",
       "      <th></th>\n",
       "      <th></th>\n",
       "      <th></th>\n",
       "      <th></th>\n",
       "    </tr>\n",
       "  </thead>\n",
       "  <tbody>\n",
       "    <tr>\n",
       "      <th>1467891670691DSC_0582.png</th>\n",
       "      <td>77.815933</td>\n",
       "      <td>555.434448</td>\n",
       "      <td>83.537453</td>\n",
       "      <td>426.236816</td>\n",
       "    </tr>\n",
       "    <tr>\n",
       "      <th>1475151786691DSC00560.png</th>\n",
       "      <td>200.920639</td>\n",
       "      <td>411.825592</td>\n",
       "      <td>117.950203</td>\n",
       "      <td>429.555908</td>\n",
       "    </tr>\n",
       "    <tr>\n",
       "      <th>1480334114405_R2A3620.png</th>\n",
       "      <td>192.567291</td>\n",
       "      <td>430.148865</td>\n",
       "      <td>98.063126</td>\n",
       "      <td>365.297852</td>\n",
       "    </tr>\n",
       "    <tr>\n",
       "      <th>JPEG_20160712_161047_1000606860114.png</th>\n",
       "      <td>181.559982</td>\n",
       "      <td>502.966370</td>\n",
       "      <td>51.432793</td>\n",
       "      <td>417.716125</td>\n",
       "    </tr>\n",
       "    <tr>\n",
       "      <th>JPEG_20160403_174522_-1137349501.png</th>\n",
       "      <td>88.946983</td>\n",
       "      <td>532.611084</td>\n",
       "      <td>46.159790</td>\n",
       "      <td>385.409332</td>\n",
       "    </tr>\n",
       "  </tbody>\n",
       "</table>\n",
       "</div>"
      ],
      "text/plain": [
       "                                                x1          x2          y1  \\\n",
       "image_name                                                                   \n",
       "1467891670691DSC_0582.png                77.815933  555.434448   83.537453   \n",
       "1475151786691DSC00560.png               200.920639  411.825592  117.950203   \n",
       "1480334114405_R2A3620.png               192.567291  430.148865   98.063126   \n",
       "JPEG_20160712_161047_1000606860114.png  181.559982  502.966370   51.432793   \n",
       "JPEG_20160403_174522_-1137349501.png     88.946983  532.611084   46.159790   \n",
       "\n",
       "                                                y2  \n",
       "image_name                                          \n",
       "1467891670691DSC_0582.png               426.236816  \n",
       "1475151786691DSC00560.png               429.555908  \n",
       "1480334114405_R2A3620.png               365.297852  \n",
       "JPEG_20160712_161047_1000606860114.png  417.716125  \n",
       "JPEG_20160403_174522_-1137349501.png    385.409332  "
      ]
     },
     "execution_count": 10,
     "metadata": {},
     "output_type": "execute_result"
    }
   ],
   "source": [
    "df.head()"
   ]
  },
  {
   "cell_type": "code",
   "execution_count": 11,
   "metadata": {},
   "outputs": [],
   "source": [
    "df.to_csv('predictions.csv')"
   ]
  },
  {
   "cell_type": "code",
   "execution_count": null,
   "metadata": {},
   "outputs": [],
   "source": []
  }
 ],
 "metadata": {
  "kernelspec": {
   "display_name": "Python 3",
   "language": "python",
   "name": "python3"
  },
  "language_info": {
   "codemirror_mode": {
    "name": "ipython",
    "version": 3
   },
   "file_extension": ".py",
   "mimetype": "text/x-python",
   "name": "python",
   "nbconvert_exporter": "python",
   "pygments_lexer": "ipython3",
   "version": "3.6.8"
  }
 },
 "nbformat": 4,
 "nbformat_minor": 2
}
