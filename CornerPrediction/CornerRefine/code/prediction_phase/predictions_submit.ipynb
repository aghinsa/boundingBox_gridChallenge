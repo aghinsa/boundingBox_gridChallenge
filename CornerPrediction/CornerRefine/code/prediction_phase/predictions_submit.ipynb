{
 "cells": [
  {
   "cell_type": "code",
   "execution_count": 1,
   "metadata": {},
   "outputs": [],
   "source": [
    "%matplotlib inline \n",
    "import numpy as np\n",
    "import pandas as pd\n",
    "import matplotlib.pyplot as plt"
   ]
  },
  {
   "cell_type": "code",
   "execution_count": 2,
   "metadata": {},
   "outputs": [
    {
     "data": {
      "text/html": [
       "<div>\n",
       "<style scoped>\n",
       "    .dataframe tbody tr th:only-of-type {\n",
       "        vertical-align: middle;\n",
       "    }\n",
       "\n",
       "    .dataframe tbody tr th {\n",
       "        vertical-align: top;\n",
       "    }\n",
       "\n",
       "    .dataframe thead th {\n",
       "        text-align: right;\n",
       "    }\n",
       "</style>\n",
       "<table border=\"1\" class=\"dataframe\">\n",
       "  <thead>\n",
       "    <tr style=\"text-align: right;\">\n",
       "      <th></th>\n",
       "      <th>x1</th>\n",
       "      <th>x2</th>\n",
       "      <th>y1</th>\n",
       "      <th>y2</th>\n",
       "    </tr>\n",
       "    <tr>\n",
       "      <th>image_name</th>\n",
       "      <th></th>\n",
       "      <th></th>\n",
       "      <th></th>\n",
       "      <th></th>\n",
       "    </tr>\n",
       "  </thead>\n",
       "  <tbody>\n",
       "    <tr>\n",
       "      <th>1467891670691DSC_0582.png</th>\n",
       "      <td>NaN</td>\n",
       "      <td>NaN</td>\n",
       "      <td>NaN</td>\n",
       "      <td>NaN</td>\n",
       "    </tr>\n",
       "    <tr>\n",
       "      <th>1475151786691DSC00560.png</th>\n",
       "      <td>NaN</td>\n",
       "      <td>NaN</td>\n",
       "      <td>NaN</td>\n",
       "      <td>NaN</td>\n",
       "    </tr>\n",
       "    <tr>\n",
       "      <th>1480334114405_R2A3620.png</th>\n",
       "      <td>NaN</td>\n",
       "      <td>NaN</td>\n",
       "      <td>NaN</td>\n",
       "      <td>NaN</td>\n",
       "    </tr>\n",
       "    <tr>\n",
       "      <th>JPEG_20160712_161047_1000606860114.png</th>\n",
       "      <td>NaN</td>\n",
       "      <td>NaN</td>\n",
       "      <td>NaN</td>\n",
       "      <td>NaN</td>\n",
       "    </tr>\n",
       "    <tr>\n",
       "      <th>JPEG_20160403_174522_-1137349501.png</th>\n",
       "      <td>NaN</td>\n",
       "      <td>NaN</td>\n",
       "      <td>NaN</td>\n",
       "      <td>NaN</td>\n",
       "    </tr>\n",
       "  </tbody>\n",
       "</table>\n",
       "</div>"
      ],
      "text/plain": [
       "                                        x1  x2  y1  y2\n",
       "image_name                                            \n",
       "1467891670691DSC_0582.png              NaN NaN NaN NaN\n",
       "1475151786691DSC00560.png              NaN NaN NaN NaN\n",
       "1480334114405_R2A3620.png              NaN NaN NaN NaN\n",
       "JPEG_20160712_161047_1000606860114.png NaN NaN NaN NaN\n",
       "JPEG_20160403_174522_-1137349501.png   NaN NaN NaN NaN"
      ]
     },
     "execution_count": 2,
     "metadata": {},
     "output_type": "execute_result"
    }
   ],
   "source": [
    "df=pd.read_csv('test.csv')\n",
    "df=df.set_index('image_name')\n",
    "df.head()"
   ]
  },
  {
   "cell_type": "code",
   "execution_count": 3,
   "metadata": {},
   "outputs": [
    {
     "data": {
      "text/plain": [
       "(24045, 4)"
      ]
     },
     "execution_count": 3,
     "metadata": {},
     "output_type": "execute_result"
    }
   ],
   "source": [
    "df.shape"
   ]
  },
  {
   "cell_type": "code",
   "execution_count": 4,
   "metadata": {},
   "outputs": [],
   "source": [
    "# f=open('test_list.txt','w')\n",
    "# c=0\n",
    "# for row,val in df.iterrows():\n",
    "#     f.write(row)\n",
    "#     f.write('\\n')\n",
    "#     c+=1\n",
    "# f.close()\n",
    "# print(c)"
   ]
  },
  {
   "cell_type": "code",
   "execution_count": 5,
   "metadata": {},
   "outputs": [],
   "source": [
    "parray=np.load('predicted_points_submitions_ready.npy')"
   ]
  },
  {
   "cell_type": "code",
   "execution_count": 6,
   "metadata": {},
   "outputs": [
    {
     "data": {
      "text/plain": [
       "(24045, 4)"
      ]
     },
     "execution_count": 6,
     "metadata": {},
     "output_type": "execute_result"
    }
   ],
   "source": [
    "df.shape"
   ]
  },
  {
   "cell_type": "code",
   "execution_count": 7,
   "metadata": {},
   "outputs": [],
   "source": [
    "parray=parray[:,0:4]"
   ]
  },
  {
   "cell_type": "code",
   "execution_count": 8,
   "metadata": {},
   "outputs": [
    {
     "data": {
      "text/plain": [
       "(24045, 4)"
      ]
     },
     "execution_count": 8,
     "metadata": {},
     "output_type": "execute_result"
    }
   ],
   "source": [
    "parray.shape"
   ]
  },
  {
   "cell_type": "code",
   "execution_count": 9,
   "metadata": {},
   "outputs": [],
   "source": [
    "df['x1']=(parray[:,0])*640/256\n",
    "df['x2']=(parray[:,2])*640/256\n",
    "df['y1']=(parray[:,1])*480/256\n",
    "df['y2']=(parray[:,3])*480/256"
   ]
  },
  {
   "cell_type": "code",
   "execution_count": 10,
   "metadata": {},
   "outputs": [
    {
     "data": {
      "text/html": [
       "<div>\n",
       "<style scoped>\n",
       "    .dataframe tbody tr th:only-of-type {\n",
       "        vertical-align: middle;\n",
       "    }\n",
       "\n",
       "    .dataframe tbody tr th {\n",
       "        vertical-align: top;\n",
       "    }\n",
       "\n",
       "    .dataframe thead th {\n",
       "        text-align: right;\n",
       "    }\n",
       "</style>\n",
       "<table border=\"1\" class=\"dataframe\">\n",
       "  <thead>\n",
       "    <tr style=\"text-align: right;\">\n",
       "      <th></th>\n",
       "      <th>x1</th>\n",
       "      <th>x2</th>\n",
       "      <th>y1</th>\n",
       "      <th>y2</th>\n",
       "    </tr>\n",
       "    <tr>\n",
       "      <th>image_name</th>\n",
       "      <th></th>\n",
       "      <th></th>\n",
       "      <th></th>\n",
       "      <th></th>\n",
       "    </tr>\n",
       "  </thead>\n",
       "  <tbody>\n",
       "    <tr>\n",
       "      <th>1467891670691DSC_0582.png</th>\n",
       "      <td>88.682556</td>\n",
       "      <td>572.060669</td>\n",
       "      <td>77.269661</td>\n",
       "      <td>414.149231</td>\n",
       "    </tr>\n",
       "    <tr>\n",
       "      <th>1475151786691DSC00560.png</th>\n",
       "      <td>219.102509</td>\n",
       "      <td>448.173553</td>\n",
       "      <td>106.084526</td>\n",
       "      <td>387.193512</td>\n",
       "    </tr>\n",
       "    <tr>\n",
       "      <th>1480334114405_R2A3620.png</th>\n",
       "      <td>190.112625</td>\n",
       "      <td>432.348907</td>\n",
       "      <td>97.217178</td>\n",
       "      <td>363.775665</td>\n",
       "    </tr>\n",
       "    <tr>\n",
       "      <th>JPEG_20160712_161047_1000606860114.png</th>\n",
       "      <td>173.379898</td>\n",
       "      <td>496.648804</td>\n",
       "      <td>54.934860</td>\n",
       "      <td>425.729553</td>\n",
       "    </tr>\n",
       "    <tr>\n",
       "      <th>JPEG_20160403_174522_-1137349501.png</th>\n",
       "      <td>80.898552</td>\n",
       "      <td>524.562439</td>\n",
       "      <td>50.948780</td>\n",
       "      <td>391.868713</td>\n",
       "    </tr>\n",
       "  </tbody>\n",
       "</table>\n",
       "</div>"
      ],
      "text/plain": [
       "                                                x1          x2          y1  \\\n",
       "image_name                                                                   \n",
       "1467891670691DSC_0582.png                88.682556  572.060669   77.269661   \n",
       "1475151786691DSC00560.png               219.102509  448.173553  106.084526   \n",
       "1480334114405_R2A3620.png               190.112625  432.348907   97.217178   \n",
       "JPEG_20160712_161047_1000606860114.png  173.379898  496.648804   54.934860   \n",
       "JPEG_20160403_174522_-1137349501.png     80.898552  524.562439   50.948780   \n",
       "\n",
       "                                                y2  \n",
       "image_name                                          \n",
       "1467891670691DSC_0582.png               414.149231  \n",
       "1475151786691DSC00560.png               387.193512  \n",
       "1480334114405_R2A3620.png               363.775665  \n",
       "JPEG_20160712_161047_1000606860114.png  425.729553  \n",
       "JPEG_20160403_174522_-1137349501.png    391.868713  "
      ]
     },
     "execution_count": 10,
     "metadata": {},
     "output_type": "execute_result"
    }
   ],
   "source": [
    "df.head()"
   ]
  },
  {
   "cell_type": "code",
   "execution_count": 11,
   "metadata": {},
   "outputs": [],
   "source": [
    "df.to_csv('predictions.csv')"
   ]
  },
  {
   "cell_type": "code",
   "execution_count": null,
   "metadata": {},
   "outputs": [],
   "source": []
  }
 ],
 "metadata": {
  "kernelspec": {
   "display_name": "Python 3",
   "language": "python",
   "name": "python3"
  },
  "language_info": {
   "codemirror_mode": {
    "name": "ipython",
    "version": 3
   },
   "file_extension": ".py",
   "mimetype": "text/x-python",
   "name": "python",
   "nbconvert_exporter": "python",
   "pygments_lexer": "ipython3",
   "version": "3.6.8"
  }
 },
 "nbformat": 4,
 "nbformat_minor": 2
}
