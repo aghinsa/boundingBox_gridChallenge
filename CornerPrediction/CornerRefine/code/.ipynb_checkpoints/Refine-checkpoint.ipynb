{
 "cells": [
  {
   "cell_type": "code",
   "execution_count": 2,
   "metadata": {},
   "outputs": [],
   "source": [
    "%matplotlib inline \n",
    "import numpy as np\n",
    "import pandas as pd\n",
    "import matplotlib.pyplot as plt\n",
    "from tqdm import tqdm_notebook as tqdm"
   ]
  },
  {
   "cell_type": "code",
   "execution_count": 4,
   "metadata": {},
   "outputs": [],
   "source": [
    "img_size=(256,256)\n",
    "data=pd.read_csv('training_set.csv')\n",
    "data=data.set_index('image_name')\n",
    "data=data[['x1','y1','x2','y2']]\n",
    "data['x1']=data['x1']*img_size[0]/640\n",
    "data['x2']=data['x2']*img_size[0]/640\n",
    "data['y1']=data['y1']*img_size[1]/480\n",
    "data['y2']=data['y2']*img_size[1]/480"
   ]
  },
  {
   "cell_type": "markdown",
   "metadata": {},
   "source": [
    "Error in 1471600982974DSC_0322.png\n",
    "Error in 1477035945016DSC_7534.png"
   ]
  },
  {
   "cell_type": "code",
   "execution_count": 5,
   "metadata": {},
   "outputs": [],
   "source": [
    "data=data.drop(['1471600982974DSC_0322.png','1477035945016DSC_7534.png'])\n",
    "data.drop(data.index[23982:], inplace=True)"
   ]
  },
  {
   "cell_type": "code",
   "execution_count": 6,
   "metadata": {},
   "outputs": [
    {
     "data": {
      "text/plain": [
       "(23982, 4)"
      ]
     },
     "execution_count": 6,
     "metadata": {},
     "output_type": "execute_result"
    }
   ],
   "source": [
    "data.shape"
   ]
  },
  {
   "cell_type": "code",
   "execution_count": 7,
   "metadata": {},
   "outputs": [
    {
     "data": {
      "application/vnd.jupyter.widget-view+json": {
       "model_id": "6587a56e4ea84bc9a1de9e58d5ce3921",
       "version_major": 2,
       "version_minor": 0
      },
      "text/plain": [
       "HBox(children=(IntProgress(value=1, bar_style='info', max=1), HTML(value='')))"
      ]
     },
     "metadata": {},
     "output_type": "display_data"
    },
    {
     "name": "stdout",
     "output_type": "stream",
     "text": [
      "\n"
     ]
    }
   ],
   "source": [
    "truth_list=[]\n",
    "for idx,item in tqdm(data.iterrows()):\n",
    "    truth_list.append(np.array(item))"
   ]
  },
  {
   "cell_type": "code",
   "execution_count": 8,
   "metadata": {},
   "outputs": [
    {
     "name": "stdout",
     "output_type": "stream",
     "text": [
      "Saved\n",
      "(23982, 4)\n"
     ]
    }
   ],
   "source": [
    "parray=np.array(truth_list)\n",
    "np.save('true_points.npy',parray)\n",
    "print('Saved')\n",
    "print(parray.shape)"
   ]
  },
  {
   "cell_type": "code",
   "execution_count": 9,
   "metadata": {},
   "outputs": [
    {
     "name": "stdout",
     "output_type": "stream",
     "text": [
      "(23982, 4)\n"
     ]
    }
   ],
   "source": [
    "tarray=np.load('predicted_points_to_refine_train.npy')\n",
    "print(tarray.shape)"
   ]
  },
  {
   "cell_type": "code",
   "execution_count": 10,
   "metadata": {},
   "outputs": [
    {
     "name": "stdout",
     "output_type": "stream",
     "text": [
      "(23982, 4)\n",
      "(23982, 4)\n"
     ]
    }
   ],
   "source": [
    "print(parray.shape)\n",
    "print(data.shape)"
   ]
  },
  {
   "cell_type": "code",
   "execution_count": 12,
   "metadata": {},
   "outputs": [
    {
     "name": "stdout",
     "output_type": "stream",
     "text": [
      "[ 30.059753  30.156084 180.37373  229.0582  ]\n",
      "[ 31.2         44.26666667 178.4        225.06666667]\n"
     ]
    }
   ],
   "source": [
    "print(tarray[0])\n",
    "print (parray[0])"
   ]
  },
  {
   "cell_type": "code",
   "execution_count": null,
   "metadata": {},
   "outputs": [],
   "source": []
  },
  {
   "cell_type": "code",
   "execution_count": null,
   "metadata": {},
   "outputs": [],
   "source": []
  }
 ],
 "metadata": {
  "kernelspec": {
   "display_name": "Python 3",
   "language": "python",
   "name": "python3"
  },
  "language_info": {
   "codemirror_mode": {
    "name": "ipython",
    "version": 3
   },
   "file_extension": ".py",
   "mimetype": "text/x-python",
   "name": "python",
   "nbconvert_exporter": "python",
   "pygments_lexer": "ipython3",
   "version": "3.5.0"
  }
 },
 "nbformat": 4,
 "nbformat_minor": 2
}
