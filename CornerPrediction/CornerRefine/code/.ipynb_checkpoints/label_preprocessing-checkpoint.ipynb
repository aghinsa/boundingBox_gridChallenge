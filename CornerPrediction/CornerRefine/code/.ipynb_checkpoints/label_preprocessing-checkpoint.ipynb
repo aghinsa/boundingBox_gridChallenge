{
 "cells": [
  {
   "cell_type": "code",
   "execution_count": 1,
   "metadata": {},
   "outputs": [],
   "source": [
    "import tensorflow as tf\n",
    "import numpy as np\n",
    "import matplotlib.pyplot as plt\n",
    "import pandas as pd\n",
    "import cv2\n",
    "from tqdm import tqdm_notebook as tqdm\n",
    "\n",
    "import pickle\n",
    "import os"
   ]
  },
  {
   "cell_type": "code",
   "execution_count": 2,
   "metadata": {},
   "outputs": [],
   "source": [
    "img_size=(256,256)"
   ]
  },
  {
   "cell_type": "code",
   "execution_count": 3,
   "metadata": {},
   "outputs": [],
   "source": [
    "def calculateRadius(points,thresh=0.7):\n",
    "    \n",
    "    alpha=points[2]-points[0]\n",
    "    beta=points[3]-points[1]\n",
    "    \n",
    "\n",
    "    disc=alpha*beta*(1-thresh)\n",
    "    disc/=alpha+beta\n",
    "    disc=np.sqrt(disc)\n",
    "    disc=np.floor(disc)\n",
    "    disc=disc.astype(np.int32)\n",
    "    \n",
    "    return disc"
   ]
  },
  {
   "cell_type": "code",
   "execution_count": 4,
   "metadata": {},
   "outputs": [],
   "source": [
    "def create_mask(img_size,points,mode='top_left',varience=1.5,normalized=True):\n",
    "    \"\"\"\n",
    "    return normalized mask uint8 range 255\n",
    "    shape [img_size[0],img_size[1]]\n",
    "    \"\"\"\n",
    "    mask=np.zeros((img_size[0],img_size[1]))\n",
    "    radius=calculateRadius(points)\n",
    "    sigma=varience*radius\n",
    "    sigma*=sigma\n",
    "    sigma=2*sigma\n",
    "    if mode=='top_left':\n",
    "        \n",
    "        cv2.circle(mask,(int(points[0]),int(points[1])),radius, (1), -1)\n",
    "       \n",
    "        s=np.array(np.meshgrid(np.arange(img_size[0]),np.arange(img_size[0]))).transpose([1,2,0]).reshape(-1,2).astype(np.float32)\n",
    "        origin=np.floor(np.array([points[0],points[1]]))\n",
    "    \n",
    "    elif mode=='bottom_right':\n",
    "        \n",
    "        cv2.circle(mask,(int(points[2]),int(points[3])),radius, (1), -1)\n",
    "        s=np.array(np.meshgrid(np.arange(img_size[0]),np.arange(img_size[0]))).transpose([1,2,0]).reshape(-1,2).astype(np.float32)\n",
    "        origin=np.floor(np.array([points[2],points[3]]))\n",
    "    else:\n",
    "        print(\"Mode error\")\n",
    "        return\n",
    "        \n",
    "    s-=origin\n",
    "    s=np.square(s)\n",
    "    s=np.sum(s,axis=1)\n",
    "    s/=sigma\n",
    "    s=np.exp(-s)\n",
    "    s=s.reshape(img_size)\n",
    "#     s=s/np.max(s)\n",
    "    if not normalized:\n",
    "        s=s*255\n",
    "    \n",
    "    return s"
   ]
  },
  {
   "cell_type": "code",
   "execution_count": 5,
   "metadata": {},
   "outputs": [],
   "source": [
    "\n",
    "data=pd.read_csv('training_set.csv')\n",
    "data=data.set_index('image_name')\n",
    "data=data[['x1','y1','x2','y2']]\n",
    "data['x1']=data['x1']*img_size[0]/640\n",
    "data['x2']=data['x2']*img_size[0]/640\n",
    "data['y1']=data['y1']*img_size[1]/480\n",
    "data['y2']=data['y2']*img_size[1]/480"
   ]
  },
  {
   "cell_type": "code",
   "execution_count": 6,
   "metadata": {},
   "outputs": [
    {
     "data": {
      "text/html": [
       "<div>\n",
       "<style scoped>\n",
       "    .dataframe tbody tr th:only-of-type {\n",
       "        vertical-align: middle;\n",
       "    }\n",
       "\n",
       "    .dataframe tbody tr th {\n",
       "        vertical-align: top;\n",
       "    }\n",
       "\n",
       "    .dataframe thead th {\n",
       "        text-align: right;\n",
       "    }\n",
       "</style>\n",
       "<table border=\"1\" class=\"dataframe\">\n",
       "  <thead>\n",
       "    <tr style=\"text-align: right;\">\n",
       "      <th></th>\n",
       "      <th>x1</th>\n",
       "      <th>y1</th>\n",
       "      <th>x2</th>\n",
       "      <th>y2</th>\n",
       "    </tr>\n",
       "    <tr>\n",
       "      <th>image_name</th>\n",
       "      <th></th>\n",
       "      <th></th>\n",
       "      <th></th>\n",
       "      <th></th>\n",
       "    </tr>\n",
       "  </thead>\n",
       "  <tbody>\n",
       "    <tr>\n",
       "      <th>JPEG_20160517_140621_1000651031832.png</th>\n",
       "      <td>31.2</td>\n",
       "      <td>44.266667</td>\n",
       "      <td>178.4</td>\n",
       "      <td>225.066667</td>\n",
       "    </tr>\n",
       "    <tr>\n",
       "      <th>1473231510890DeeplearnS11456.png</th>\n",
       "      <td>29.2</td>\n",
       "      <td>77.866667</td>\n",
       "      <td>226.8</td>\n",
       "      <td>187.200000</td>\n",
       "    </tr>\n",
       "    <tr>\n",
       "      <th>1476881557883Untitled1.png</th>\n",
       "      <td>5.2</td>\n",
       "      <td>66.133333</td>\n",
       "      <td>224.4</td>\n",
       "      <td>193.066667</td>\n",
       "    </tr>\n",
       "    <tr>\n",
       "      <th>1474264827890cobalt-beyond-the-sea-maxi-dress3.png</th>\n",
       "      <td>0.0</td>\n",
       "      <td>74.666667</td>\n",
       "      <td>256.0</td>\n",
       "      <td>176.000000</td>\n",
       "    </tr>\n",
       "    <tr>\n",
       "      <th>JPEG_20160711_113321_1000235741992.png</th>\n",
       "      <td>86.8</td>\n",
       "      <td>34.666667</td>\n",
       "      <td>176.8</td>\n",
       "      <td>248.000000</td>\n",
       "    </tr>\n",
       "  </tbody>\n",
       "</table>\n",
       "</div>"
      ],
      "text/plain": [
       "                                                      x1         y1     x2  \\\n",
       "image_name                                                                   \n",
       "JPEG_20160517_140621_1000651031832.png              31.2  44.266667  178.4   \n",
       "1473231510890DeeplearnS11456.png                    29.2  77.866667  226.8   \n",
       "1476881557883Untitled1.png                           5.2  66.133333  224.4   \n",
       "1474264827890cobalt-beyond-the-sea-maxi-dress3.png   0.0  74.666667  256.0   \n",
       "JPEG_20160711_113321_1000235741992.png              86.8  34.666667  176.8   \n",
       "\n",
       "                                                            y2  \n",
       "image_name                                                      \n",
       "JPEG_20160517_140621_1000651031832.png              225.066667  \n",
       "1473231510890DeeplearnS11456.png                    187.200000  \n",
       "1476881557883Untitled1.png                          193.066667  \n",
       "1474264827890cobalt-beyond-the-sea-maxi-dress3.png  176.000000  \n",
       "JPEG_20160711_113321_1000235741992.png              248.000000  "
      ]
     },
     "execution_count": 6,
     "metadata": {},
     "output_type": "execute_result"
    }
   ],
   "source": [
    "data.head()"
   ]
  },
  {
   "cell_type": "code",
   "execution_count": 7,
   "metadata": {},
   "outputs": [
    {
     "name": "stdout",
     "output_type": "stream",
     "text": [
      "24000\n"
     ]
    }
   ],
   "source": [
    "filenames=[]\n",
    "# f=open('train_list.txt','w')\n",
    "for x,_ in data.iterrows():\n",
    "    filenames.append(x)\n",
    "#     f.write(x)\n",
    "#     f.write('\\n')\n",
    "# f.close()\n",
    "print(len(filenames))"
   ]
  },
  {
   "cell_type": "code",
   "execution_count": 8,
   "metadata": {},
   "outputs": [
    {
     "name": "stdout",
     "output_type": "stream",
     "text": [
      "completed\n",
      "saved\n"
     ]
    }
   ],
   "source": [
    "label_dict={}\n",
    "for file in filenames:\n",
    "    points=np.array(data.loc[file])\n",
    "    points=np.floor(points)\n",
    "    label_dict[file]=points\n",
    "print(\"completed\")\n",
    "\n",
    "with open('labels_xy.pickle','wb') as handle:\n",
    "    pickle.dump(label_dict,handle,protocol=pickle.HIGHEST_PROTOCOL)\n",
    "print(\"saved\")"
   ]
  },
  {
   "cell_type": "code",
   "execution_count": 9,
   "metadata": {},
   "outputs": [],
   "source": [
    "left_path='../labels/top'\n",
    "right_path='../labels/bottom'\n",
    "with open('labels_xy.pickle', 'rb') as handle:\n",
    "    labels_xy = pickle.load(handle)"
   ]
  },
  {
   "cell_type": "code",
   "execution_count": 10,
   "metadata": {},
   "outputs": [
    {
     "data": {
      "application/vnd.jupyter.widget-view+json": {
       "model_id": "0762fa5b6cf640ffb544d32a4c3e7233",
       "version_major": 2,
       "version_minor": 0
      },
      "text/plain": [
       "HBox(children=(IntProgress(value=0, max=24000), HTML(value='')))"
      ]
     },
     "metadata": {},
     "output_type": "display_data"
    },
    {
     "name": "stderr",
     "output_type": "stream",
     "text": [
      "/home/aghinsa/anaconda3/lib/python3.6/site-packages/ipykernel_launcher.py:8: RuntimeWarning: invalid value encountered in double_scalars\n",
      "  \n"
     ]
    },
    {
     "name": "stdout",
     "output_type": "stream",
     "text": [
      "Error in 1471600982974DSC_0322.png \n",
      "Error in 1477035945016DSC_7534.png \n",
      "\n",
      "Completed\n"
     ]
    }
   ],
   "source": [
    "\n",
    "for file in tqdm(filenames):\n",
    "    try:\n",
    "        lsv=os.path.join(left_path,file)\n",
    "        rsv=os.path.join(right_path,file)\n",
    "        points=labels_xy[file]\n",
    "        varience=1.75\n",
    "        left_mask=create_mask(img_size,points,mode='top_left',varience=varience,normalized=False)\n",
    "        right_mask=create_mask(img_size,points,mode='bottom_right',varience=varience,normalized=False)\n",
    "        cv2.imwrite(lsv,left_mask)\n",
    "        cv2.imwrite(rsv,right_mask)\n",
    "    except:\n",
    "        print(\"Error in {} \".format(file))\n",
    "print(\"Completed\")"
   ]
  },
  {
   "cell_type": "markdown",
   "metadata": {},
   "source": [
    "Remove images causing errors from train_list\n"
   ]
  },
  {
   "cell_type": "markdown",
   "metadata": {},
   "source": [
    "Error in 1471600982974DSC_0322.png  \n",
    "Error in 1477035945016DSC_7534.png"
   ]
  },
  {
   "cell_type": "code",
   "execution_count": null,
   "metadata": {},
   "outputs": [],
   "source": []
  }
 ],
 "metadata": {
  "kernelspec": {
   "display_name": "Python 3",
   "language": "python",
   "name": "python3"
  },
  "language_info": {
   "codemirror_mode": {
    "name": "ipython",
    "version": 3
   },
   "file_extension": ".py",
   "mimetype": "text/x-python",
   "name": "python",
   "nbconvert_exporter": "python",
   "pygments_lexer": "ipython3",
   "version": "3.5.0"
  }
 },
 "nbformat": 4,
 "nbformat_minor": 2
}
